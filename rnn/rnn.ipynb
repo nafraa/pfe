{
 "cells": [
  {
   "cell_type": "code",
   "execution_count": 1,
   "metadata": {},
   "outputs": [],
   "source": [
    "import sqlalchemy\n",
    "import matplotlib.pyplot as plt \n",
    "import pandas as pd\n",
    "pd.option_context('display.max_rows',None)\n",
    "pd.set_option('display.float_format', lambda x: '%.3f' % x)\n",
    "from keras.preprocessing.sequence import TimeseriesGenerator\n",
    "from keras.models import Sequential,load_model\n",
    "from keras.layers import Dense,LSTM,Bidirectional,GRU\n",
    "from sklearn.preprocessing import MinMaxScaler\n",
    "from tensorflow.keras.optimizers import Adam\n",
    "from keras.metrics import RootMeanSquaredError\n",
    "from sklearn.metrics import mean_squared_error\n",
    "import numpy as np"
   ]
  },
  {
   "cell_type": "code",
   "execution_count": 2,
   "metadata": {},
   "outputs": [],
   "source": [
    "add_data_path = r'C:\\Users\\ahmed\\OneDrive\\Desktop\\CODE_PFE_ETL\\prev\\rnn\\data\\convertcsv.csv'\n",
    "add_d21_path = r'C:\\Users\\ahmed\\OneDrive\\Desktop\\CODE_PFE_ETL\\prev\\rnn\\data\\d2021.csv'\n",
    "scaler = MinMaxScaler(feature_range=(0,1)) #le scaler est un outil qui permet de normaliser les données en transformant \n",
    "#Importation des données de la base MSSQL avec sqlalchemy"
   ]
  },
  {
   "cell_type": "code",
   "execution_count": 3,
   "metadata": {},
   "outputs": [],
   "source": [
    "def connexion_bd():\n",
    "    server=\"localhost\"\n",
    "    database=\"GIPA\"\n",
    "    driver =\"ODBC Driver 17 for SQL Server\"\n",
    "    con = f'mssql://@{server}/{database}?driver={driver}'\n",
    "    engine = sqlalchemy.create_engine(con,fast_executemany=True)\n",
    "    con = engine.connect()\n",
    "    sql = \"select Article,DateFacture,CA from GIPA.dbo.faits_resultat\"\n",
    "    df = pd.read_sql(sql,con)  #mise en place des données dans un DataFrame \n",
    "    return df"
   ]
  },
  {
   "cell_type": "code",
   "execution_count": 4,
   "metadata": {},
   "outputs": [],
   "source": [
    "def pretraitement_données(df):\n",
    "    df['DateFacture'] = pd.to_datetime(df['DateFacture']) #formatage du champ Date\n",
    "    #groupement de la dataframe en mois\n",
    "    per = df.DateFacture.dt.to_period(\"M\") \n",
    "    g = df.groupby(per) \n",
    "    df_clean = g.sum()\n",
    "    #importation des données de validation\n",
    "    data_test = pd.read_csv(add_data_path)\n",
    "    data_test.set_index('Date',inplace=True)\n",
    "    #jointure des deux df \n",
    "    df_finale = pd.concat([data_test,df_clean])\n",
    "    return df_finale"
   ]
  },
  {
   "cell_type": "code",
   "execution_count": 5,
   "metadata": {},
   "outputs": [],
   "source": [
    "def transformation_données_2021():\n",
    "    data21 = pd.read_csv(add_d21_path)\n",
    "    data21.drop(\"Date\",axis=1,inplace=True)\n",
    "    array_d21 = np.array(data21)\n",
    "    return array_d21"
   ]
  },
  {
   "cell_type": "code",
   "execution_count": 6,
   "metadata": {},
   "outputs": [],
   "source": [
    "def division_données_train_test(df_finale):\n",
    "    \n",
    "    dataset = df_finale.values #conversion des valeurs en numpy array   \n",
    "    train_size = int(len(df_finale)*0.6) #ajustement de la taille d'entrainement du model\n",
    "    test_size = len(df_finale) - train_size\n",
    "     #ajustement de la taille de test du model\n",
    "    #les données entre 0 et 1 ( 0 étant la valeur minime et 1 la valeur maximale) car les LSTM sont plus performants\n",
    "    #avec des valeurs normalisées\n",
    "    dataset = scaler.fit_transform(dataset) #application du scaler sur la dataset\n",
    "    train, test = dataset[0:train_size,:], dataset[train_size:len(dataset),:]\n",
    "    return dataset ,train, test #division de notre dataset en 2 parties entrainement et test\n"
   ]
  },
  {
   "cell_type": "code",
   "execution_count": 7,
   "metadata": {},
   "outputs": [],
   "source": [
    "def création_model(train_gen,test_gen):\n",
    "    model = Sequential() #utilisation du model de sequence puisque nos données sont en format de series temporelles = sequentiel \n",
    "    model.add(Bidirectional(LSTM(164,input_shape=(12,1), activation='relu',return_sequences=True)))\n",
    "    model.add(LSTM(116,activation='relu'))\n",
    "    model.add(Dense(1,'linear'))\n",
    "    model.compile(loss=\"mse\",optimizer=Adam(learning_rate=0.0001),metrics=[RootMeanSquaredError()]) #compilation du model avec la loss function du mean squared error et le adam optimizer\n",
    "    model.fit_generator(train_gen,validation_data=test_gen,verbose=2,epochs=1000)\n",
    "    return model"
   ]
  },
  {
   "cell_type": "code",
   "execution_count": 8,
   "metadata": {},
   "outputs": [],
   "source": [
    "def affichage_des_plots(array_d21,prev,trainY,trainPredict):\n",
    "    plt.figure(figsize=(20,20))\n",
    "    ax1 = plt.subplot(3, 1, 1)\n",
    "    plt.title('Données réelles vs prévision 2021')\n",
    "    ax1.plot(array_d21,'r-o', label=\"données réelles\")\n",
    "    ax1.plot(prev,'b-o', label=\"prévisions\") \n",
    "    plt.legend()\n",
    "    ax2 = plt.subplot(3, 1, 2, sharex=ax1)\n",
    "    plt.title(\"Données d'entrainement réelles vs prédites\")\n",
    "    ax2.plot(trainY,'-o', label=\"Données d'entrainement\")\n",
    "    ax2.plot(trainPredict,'.:', label=\"données prédites d'entrainement\") \n",
    "    plt.legend()\n",
    "    plt.show()\n",
    "     \n",
    "    result = pd.concat([pd.DataFrame(prev),pd.DataFrame(array_d21)],axis=1)\n",
    "    l = ['Prévision','Données 2021']\n",
    "    result.columns = l\n",
    "    return result"
   ]
  }
 ],
 "metadata": {
  "interpreter": {
   "hash": "2bbd11554dcf4b6c4352ff48762ef29dcc1ccace6105f1db84ea98ea1b912446"
  },
  "kernelspec": {
   "display_name": "Python 3.8.13 ('streamlitenv')",
   "language": "python",
   "name": "python3"
  },
  "language_info": {
   "codemirror_mode": {
    "name": "ipython",
    "version": 3
   },
   "file_extension": ".py",
   "mimetype": "text/x-python",
   "name": "python",
   "nbconvert_exporter": "python",
   "pygments_lexer": "ipython3",
   "version": "3.8.13"
  },
  "orig_nbformat": 4
 },
 "nbformat": 4,
 "nbformat_minor": 2
}
