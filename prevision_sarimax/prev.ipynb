{
 "cells": [
  {
   "cell_type": "code",
   "execution_count": 1,
   "metadata": {},
   "outputs": [
    {
     "name": "stderr",
     "output_type": "stream",
     "text": [
      "Importing plotly failed. Interactive plots will not work.\n"
     ]
    }
   ],
   "source": [
    "import sqlalchemy\n",
    "import matplotlib.pyplot as plt \n",
    "import pandas as pd\n",
    "pd.option_context('display.max_rows',None)\n",
    "pd.set_option('display.float_format', lambda x: '%.3f' % x)\n",
    "import numpy as np\n",
    "from math import sqrt, ceil\n",
    "import fbprophet\n",
    "add_data_path = r'C:\\Users\\ahmed\\OneDrive\\Desktop\\CODE_PFE_ETL\\prev\\rnn\\data\\convertcsv.csv'\n",
    "add_d21_path = r'C:\\Users\\ahmed\\OneDrive\\Desktop\\CODE_PFE_ETL\\prev\\rnn\\data\\d2021.csv'\n",
    "\n",
    "\n",
    "#Importation des données de la base MSSQL avec sqlalchemy\n",
    "def connexion_bd():\n",
    "    server=\"localhost\"\n",
    "    database=\"GIPA\"\n",
    "    driver =\"ODBC Driver 17 for SQL Server\"\n",
    "    con = f'mssql://@{server}/{database}?driver={driver}'\n",
    "    engine = sqlalchemy.create_engine(con,fast_executemany=True)\n",
    "    con = engine.connect()\n",
    "    sql = \"select Article,DateFacture,CA from GIPA.dbo.faits_resultat\"\n",
    "    df = pd.read_sql(sql,con)  #mise en place des données dans un DataFrame \n",
    "    return df\n",
    "\n",
    "\n",
    "\n",
    "def transformation_données_2021():\n",
    "    data21 = pd.read_csv(add_d21_path)\n",
    "    data21.drop(\"Date\",axis=1,inplace=True)\n",
    "    array_d21 = np.array(data21)\n",
    "    return array_d21\n"
   ]
  },
  {
   "cell_type": "code",
   "execution_count": 2,
   "metadata": {},
   "outputs": [],
   "source": [
    "df = connexion_bd()\n",
    "df['DateFacture'] = pd.DatetimeIndex(df['DateFacture'])\n",
    "df.index = df['DateFacture']\n",
    "group = df.groupby(pd.Grouper(freq='M'))  # update for v0.21+\n",
    "df_c = group.sum()\n",
    "data_test = pd.read_csv(add_data_path)\n",
    "data_test.set_index('Date',inplace=True)\n",
    "#jointure des deux df \n",
    "df_finale = pd.concat([data_test,df_c])\n",
    "df_finale.reset_index(inplace=True)\n",
    "df_finale['index'] = pd.to_datetime(df_finale['index'])"
   ]
  },
  {
   "cell_type": "code",
   "execution_count": 3,
   "metadata": {},
   "outputs": [],
   "source": [
    "df_finale_indexed = df_finale.drop('index',axis=1)"
   ]
  },
  {
   "cell_type": "code",
   "execution_count": 4,
   "metadata": {},
   "outputs": [],
   "source": [
    "max_p = 2\n",
    "max_q = 2\n",
    "max_d = 1\n",
    "max_sp = 1\n",
    "max_sq = 1\n",
    "max_sd = 1\n",
    "\n",
    "pattern = max_p*(max_q + 1)*(max_d + 1)*(max_sp + 1)*(max_sq + 1)*(max_sd + 1)\n",
    "modelSelection = pd.DataFrame(index=range(pattern),columns=[\"model\", \"aic\"])\n",
    "num =0\n"
   ]
  },
  {
   "cell_type": "code",
   "execution_count": 5,
   "metadata": {},
   "outputs": [],
   "source": [
    "import statsmodels.api as sm\n",
    "for p in range(1, max_p + 1):\n",
    "    for d in range(0, max_d + 1):\n",
    "        for q in range(0, max_q + 1):\n",
    "            for sp in range(0, max_sp + 1):\n",
    "                for sd in range(0, max_sd + 1):\n",
    "                    for sq in range(0, max_sq + 1):\n",
    "                        sarima = sm.tsa.SARIMAX(\n",
    "                            df_finale_indexed, order=(p,d,q), \n",
    "                            seasonal_order=(sp,sd,sq,4), \n",
    "                            enforce_stationarity = False, \n",
    "                            enforce_invertibility = False\n",
    "                        ).fit()\n",
    "                        modelSelection.iloc[num][\"model\"] = \"order=(\" + str(p) + \",\"+ str(d) + \",\"+ str(q) + \"), season=(\"+ str(sp) + \",\"+ str(sd) + \",\" + str(sq) + \")\"\n",
    "                        modelSelection.iloc[num][\"aic\"] = sarima.aic\n",
    "                        num = num + 1\n",
    "#prevScore = sqrt(mean_squared_error(array_d21,df_resultat['previsions']))\n",
    "#print('RMSE des prévisions par rapport au données réelles: %.2f RMSE' % (prevScore))\n"
   ]
  },
  {
   "cell_type": "code",
   "execution_count": 6,
   "metadata": {},
   "outputs": [
    {
     "name": "stdout",
     "output_type": "stream",
     "text": [
      "                            model      aic\n",
      "91  order=(2,1,2), season=(0,1,1) 1652.134\n"
     ]
    }
   ],
   "source": [
    "print(modelSelection[modelSelection.aic == min(modelSelection.aic)])\n"
   ]
  },
  {
   "cell_type": "code",
   "execution_count": 8,
   "metadata": {},
   "outputs": [
    {
     "ename": "ValueError",
     "evalue": "Pandas data cast to numpy dtype of object. Check input data with np.asarray(data).",
     "output_type": "error",
     "traceback": [
      "\u001b[1;31m---------------------------------------------------------------------------\u001b[0m",
      "\u001b[1;31mValueError\u001b[0m                                Traceback (most recent call last)",
      "\u001b[1;32mc:\\Users\\ahmed\\OneDrive\\Desktop\\CODE_PFE_ETL\\prev\\prevision_sarimax\\prev.ipynb Cell 7'\u001b[0m in \u001b[0;36m<cell line: 3>\u001b[1;34m()\u001b[0m\n\u001b[0;32m      <a href='vscode-notebook-cell:/c%3A/Users/ahmed/OneDrive/Desktop/CODE_PFE_ETL/prev/prevision_sarimax/prev.ipynb#ch0000019?line=0'>1</a>\u001b[0m \u001b[39mimport\u001b[39;00m \u001b[39mstatsmodels\u001b[39;00m\u001b[39m.\u001b[39;00m\u001b[39mapi\u001b[39;00m \u001b[39mas\u001b[39;00m \u001b[39msm\u001b[39;00m\n\u001b[1;32m----> <a href='vscode-notebook-cell:/c%3A/Users/ahmed/OneDrive/Desktop/CODE_PFE_ETL/prev/prevision_sarimax/prev.ipynb#ch0000019?line=2'>3</a>\u001b[0m model \u001b[39m=\u001b[39m sm\u001b[39m.\u001b[39;49mtsa\u001b[39m.\u001b[39;49mstatespace\u001b[39m.\u001b[39;49mSARIMAX(df_finale, order\u001b[39m=\u001b[39;49m(\u001b[39m2\u001b[39;49m,\u001b[39m1\u001b[39;49m,\u001b[39m2\u001b[39;49m), seasonal_order\u001b[39m=\u001b[39;49m(\u001b[39m0\u001b[39;49m,\u001b[39m1\u001b[39;49m,\u001b[39m1\u001b[39;49m,\u001b[39m12\u001b[39;49m))\n",
      "File \u001b[1;32m~\\anaconda3\\envs\\streamlitenv\\lib\\site-packages\\statsmodels\\tsa\\statespace\\sarimax.py:328\u001b[0m, in \u001b[0;36mSARIMAX.__init__\u001b[1;34m(self, endog, exog, order, seasonal_order, trend, measurement_error, time_varying_regression, mle_regression, simple_differencing, enforce_stationarity, enforce_invertibility, hamilton_representation, concentrate_scale, trend_offset, use_exact_diffuse, dates, freq, missing, validate_specification, **kwargs)\u001b[0m\n\u001b[0;32m    <a href='file:///c%3A/Users/ahmed/anaconda3/envs/streamlitenv/lib/site-packages/statsmodels/tsa/statespace/sarimax.py?line=317'>318</a>\u001b[0m \u001b[39mdef\u001b[39;00m \u001b[39m__init__\u001b[39m(\u001b[39mself\u001b[39m, endog, exog\u001b[39m=\u001b[39m\u001b[39mNone\u001b[39;00m, order\u001b[39m=\u001b[39m(\u001b[39m1\u001b[39m, \u001b[39m0\u001b[39m, \u001b[39m0\u001b[39m),\n\u001b[0;32m    <a href='file:///c%3A/Users/ahmed/anaconda3/envs/streamlitenv/lib/site-packages/statsmodels/tsa/statespace/sarimax.py?line=318'>319</a>\u001b[0m              seasonal_order\u001b[39m=\u001b[39m(\u001b[39m0\u001b[39m, \u001b[39m0\u001b[39m, \u001b[39m0\u001b[39m, \u001b[39m0\u001b[39m), trend\u001b[39m=\u001b[39m\u001b[39mNone\u001b[39;00m,\n\u001b[0;32m    <a href='file:///c%3A/Users/ahmed/anaconda3/envs/streamlitenv/lib/site-packages/statsmodels/tsa/statespace/sarimax.py?line=319'>320</a>\u001b[0m              measurement_error\u001b[39m=\u001b[39m\u001b[39mFalse\u001b[39;00m, time_varying_regression\u001b[39m=\u001b[39m\u001b[39mFalse\u001b[39;00m,\n\u001b[1;32m   (...)\u001b[0m\n\u001b[0;32m    <a href='file:///c%3A/Users/ahmed/anaconda3/envs/streamlitenv/lib/site-packages/statsmodels/tsa/statespace/sarimax.py?line=324'>325</a>\u001b[0m              freq\u001b[39m=\u001b[39m\u001b[39mNone\u001b[39;00m, missing\u001b[39m=\u001b[39m\u001b[39m'\u001b[39m\u001b[39mnone\u001b[39m\u001b[39m'\u001b[39m, validate_specification\u001b[39m=\u001b[39m\u001b[39mTrue\u001b[39;00m,\n\u001b[0;32m    <a href='file:///c%3A/Users/ahmed/anaconda3/envs/streamlitenv/lib/site-packages/statsmodels/tsa/statespace/sarimax.py?line=325'>326</a>\u001b[0m              \u001b[39m*\u001b[39m\u001b[39m*\u001b[39mkwargs):\n\u001b[1;32m--> <a href='file:///c%3A/Users/ahmed/anaconda3/envs/streamlitenv/lib/site-packages/statsmodels/tsa/statespace/sarimax.py?line=327'>328</a>\u001b[0m     \u001b[39mself\u001b[39m\u001b[39m.\u001b[39m_spec \u001b[39m=\u001b[39m SARIMAXSpecification(\n\u001b[0;32m    <a href='file:///c%3A/Users/ahmed/anaconda3/envs/streamlitenv/lib/site-packages/statsmodels/tsa/statespace/sarimax.py?line=328'>329</a>\u001b[0m         endog, exog\u001b[39m=\u001b[39;49mexog, order\u001b[39m=\u001b[39;49morder, seasonal_order\u001b[39m=\u001b[39;49mseasonal_order,\n\u001b[0;32m    <a href='file:///c%3A/Users/ahmed/anaconda3/envs/streamlitenv/lib/site-packages/statsmodels/tsa/statespace/sarimax.py?line=329'>330</a>\u001b[0m         trend\u001b[39m=\u001b[39;49mtrend, enforce_stationarity\u001b[39m=\u001b[39;49m\u001b[39mNone\u001b[39;49;00m, enforce_invertibility\u001b[39m=\u001b[39;49m\u001b[39mNone\u001b[39;49;00m,\n\u001b[0;32m    <a href='file:///c%3A/Users/ahmed/anaconda3/envs/streamlitenv/lib/site-packages/statsmodels/tsa/statespace/sarimax.py?line=330'>331</a>\u001b[0m         concentrate_scale\u001b[39m=\u001b[39;49mconcentrate_scale, dates\u001b[39m=\u001b[39;49mdates, freq\u001b[39m=\u001b[39;49mfreq,\n\u001b[0;32m    <a href='file:///c%3A/Users/ahmed/anaconda3/envs/streamlitenv/lib/site-packages/statsmodels/tsa/statespace/sarimax.py?line=331'>332</a>\u001b[0m         missing\u001b[39m=\u001b[39;49mmissing, validate_specification\u001b[39m=\u001b[39;49mvalidate_specification)\n\u001b[0;32m    <a href='file:///c%3A/Users/ahmed/anaconda3/envs/streamlitenv/lib/site-packages/statsmodels/tsa/statespace/sarimax.py?line=332'>333</a>\u001b[0m     \u001b[39mself\u001b[39m\u001b[39m.\u001b[39m_params \u001b[39m=\u001b[39m SARIMAXParams(\u001b[39mself\u001b[39m\u001b[39m.\u001b[39m_spec)\n\u001b[0;32m    <a href='file:///c%3A/Users/ahmed/anaconda3/envs/streamlitenv/lib/site-packages/statsmodels/tsa/statespace/sarimax.py?line=334'>335</a>\u001b[0m     \u001b[39m# Save given orders\u001b[39;00m\n",
      "File \u001b[1;32m~\\anaconda3\\envs\\streamlitenv\\lib\\site-packages\\statsmodels\\tsa\\arima\\specification.py:446\u001b[0m, in \u001b[0;36mSARIMAXSpecification.__init__\u001b[1;34m(self, endog, exog, order, seasonal_order, ar_order, diff, ma_order, seasonal_ar_order, seasonal_diff, seasonal_ma_order, seasonal_periods, trend, enforce_stationarity, enforce_invertibility, concentrate_scale, trend_offset, dates, freq, missing, validate_specification)\u001b[0m\n\u001b[0;32m    <a href='file:///c%3A/Users/ahmed/anaconda3/envs/streamlitenv/lib/site-packages/statsmodels/tsa/arima/specification.py?line=440'>441</a>\u001b[0m         exog \u001b[39m=\u001b[39m np\u001b[39m.\u001b[39mc_[trend_data, exog]\n\u001b[0;32m    <a href='file:///c%3A/Users/ahmed/anaconda3/envs/streamlitenv/lib/site-packages/statsmodels/tsa/arima/specification.py?line=442'>443</a>\u001b[0m \u001b[39m# Create an underlying time series model, to handle endog / exog,\u001b[39;00m\n\u001b[0;32m    <a href='file:///c%3A/Users/ahmed/anaconda3/envs/streamlitenv/lib/site-packages/statsmodels/tsa/arima/specification.py?line=443'>444</a>\u001b[0m \u001b[39m# especially validating shapes, retrieving names, and potentially\u001b[39;00m\n\u001b[0;32m    <a href='file:///c%3A/Users/ahmed/anaconda3/envs/streamlitenv/lib/site-packages/statsmodels/tsa/arima/specification.py?line=444'>445</a>\u001b[0m \u001b[39m# providing us with a time series index\u001b[39;00m\n\u001b[1;32m--> <a href='file:///c%3A/Users/ahmed/anaconda3/envs/streamlitenv/lib/site-packages/statsmodels/tsa/arima/specification.py?line=445'>446</a>\u001b[0m \u001b[39mself\u001b[39m\u001b[39m.\u001b[39m_model \u001b[39m=\u001b[39m TimeSeriesModel(endog, exog\u001b[39m=\u001b[39;49mexog, dates\u001b[39m=\u001b[39;49mdates, freq\u001b[39m=\u001b[39;49mfreq,\n\u001b[0;32m    <a href='file:///c%3A/Users/ahmed/anaconda3/envs/streamlitenv/lib/site-packages/statsmodels/tsa/arima/specification.py?line=446'>447</a>\u001b[0m                               missing\u001b[39m=\u001b[39;49mmissing)\n\u001b[0;32m    <a href='file:///c%3A/Users/ahmed/anaconda3/envs/streamlitenv/lib/site-packages/statsmodels/tsa/arima/specification.py?line=447'>448</a>\u001b[0m \u001b[39mself\u001b[39m\u001b[39m.\u001b[39mendog \u001b[39m=\u001b[39m \u001b[39mNone\u001b[39;00m \u001b[39mif\u001b[39;00m faux_endog \u001b[39melse\u001b[39;00m \u001b[39mself\u001b[39m\u001b[39m.\u001b[39m_model\u001b[39m.\u001b[39mendog\n\u001b[0;32m    <a href='file:///c%3A/Users/ahmed/anaconda3/envs/streamlitenv/lib/site-packages/statsmodels/tsa/arima/specification.py?line=448'>449</a>\u001b[0m \u001b[39mself\u001b[39m\u001b[39m.\u001b[39mexog \u001b[39m=\u001b[39m \u001b[39mself\u001b[39m\u001b[39m.\u001b[39m_model\u001b[39m.\u001b[39mexog\n",
      "File \u001b[1;32m~\\anaconda3\\envs\\streamlitenv\\lib\\site-packages\\statsmodels\\tsa\\base\\tsa_model.py:468\u001b[0m, in \u001b[0;36mTimeSeriesModel.__init__\u001b[1;34m(self, endog, exog, dates, freq, missing, **kwargs)\u001b[0m\n\u001b[0;32m    <a href='file:///c%3A/Users/ahmed/anaconda3/envs/streamlitenv/lib/site-packages/statsmodels/tsa/base/tsa_model.py?line=464'>465</a>\u001b[0m \u001b[39mdef\u001b[39;00m \u001b[39m__init__\u001b[39m(\n\u001b[0;32m    <a href='file:///c%3A/Users/ahmed/anaconda3/envs/streamlitenv/lib/site-packages/statsmodels/tsa/base/tsa_model.py?line=465'>466</a>\u001b[0m     \u001b[39mself\u001b[39m, endog, exog\u001b[39m=\u001b[39m\u001b[39mNone\u001b[39;00m, dates\u001b[39m=\u001b[39m\u001b[39mNone\u001b[39;00m, freq\u001b[39m=\u001b[39m\u001b[39mNone\u001b[39;00m, missing\u001b[39m=\u001b[39m\u001b[39m\"\u001b[39m\u001b[39mnone\u001b[39m\u001b[39m\"\u001b[39m, \u001b[39m*\u001b[39m\u001b[39m*\u001b[39mkwargs\n\u001b[0;32m    <a href='file:///c%3A/Users/ahmed/anaconda3/envs/streamlitenv/lib/site-packages/statsmodels/tsa/base/tsa_model.py?line=466'>467</a>\u001b[0m ):\n\u001b[1;32m--> <a href='file:///c%3A/Users/ahmed/anaconda3/envs/streamlitenv/lib/site-packages/statsmodels/tsa/base/tsa_model.py?line=467'>468</a>\u001b[0m     \u001b[39msuper\u001b[39;49m()\u001b[39m.\u001b[39;49m\u001b[39m__init__\u001b[39;49m(endog, exog, missing\u001b[39m=\u001b[39;49mmissing, \u001b[39m*\u001b[39;49m\u001b[39m*\u001b[39;49mkwargs)\n\u001b[0;32m    <a href='file:///c%3A/Users/ahmed/anaconda3/envs/streamlitenv/lib/site-packages/statsmodels/tsa/base/tsa_model.py?line=469'>470</a>\u001b[0m     \u001b[39m# Date handling in indexes\u001b[39;00m\n\u001b[0;32m    <a href='file:///c%3A/Users/ahmed/anaconda3/envs/streamlitenv/lib/site-packages/statsmodels/tsa/base/tsa_model.py?line=470'>471</a>\u001b[0m     \u001b[39mself\u001b[39m\u001b[39m.\u001b[39m_init_dates(dates, freq)\n",
      "File \u001b[1;32m~\\anaconda3\\envs\\streamlitenv\\lib\\site-packages\\statsmodels\\base\\model.py:267\u001b[0m, in \u001b[0;36mLikelihoodModel.__init__\u001b[1;34m(self, endog, exog, **kwargs)\u001b[0m\n\u001b[0;32m    <a href='file:///c%3A/Users/ahmed/anaconda3/envs/streamlitenv/lib/site-packages/statsmodels/base/model.py?line=265'>266</a>\u001b[0m \u001b[39mdef\u001b[39;00m \u001b[39m__init__\u001b[39m(\u001b[39mself\u001b[39m, endog, exog\u001b[39m=\u001b[39m\u001b[39mNone\u001b[39;00m, \u001b[39m*\u001b[39m\u001b[39m*\u001b[39mkwargs):\n\u001b[1;32m--> <a href='file:///c%3A/Users/ahmed/anaconda3/envs/streamlitenv/lib/site-packages/statsmodels/base/model.py?line=266'>267</a>\u001b[0m     \u001b[39msuper\u001b[39;49m()\u001b[39m.\u001b[39;49m\u001b[39m__init__\u001b[39;49m(endog, exog, \u001b[39m*\u001b[39;49m\u001b[39m*\u001b[39;49mkwargs)\n\u001b[0;32m    <a href='file:///c%3A/Users/ahmed/anaconda3/envs/streamlitenv/lib/site-packages/statsmodels/base/model.py?line=267'>268</a>\u001b[0m     \u001b[39mself\u001b[39m\u001b[39m.\u001b[39minitialize()\n",
      "File \u001b[1;32m~\\anaconda3\\envs\\streamlitenv\\lib\\site-packages\\statsmodels\\base\\model.py:92\u001b[0m, in \u001b[0;36mModel.__init__\u001b[1;34m(self, endog, exog, **kwargs)\u001b[0m\n\u001b[0;32m     <a href='file:///c%3A/Users/ahmed/anaconda3/envs/streamlitenv/lib/site-packages/statsmodels/base/model.py?line=89'>90</a>\u001b[0m missing \u001b[39m=\u001b[39m kwargs\u001b[39m.\u001b[39mpop(\u001b[39m'\u001b[39m\u001b[39mmissing\u001b[39m\u001b[39m'\u001b[39m, \u001b[39m'\u001b[39m\u001b[39mnone\u001b[39m\u001b[39m'\u001b[39m)\n\u001b[0;32m     <a href='file:///c%3A/Users/ahmed/anaconda3/envs/streamlitenv/lib/site-packages/statsmodels/base/model.py?line=90'>91</a>\u001b[0m hasconst \u001b[39m=\u001b[39m kwargs\u001b[39m.\u001b[39mpop(\u001b[39m'\u001b[39m\u001b[39mhasconst\u001b[39m\u001b[39m'\u001b[39m, \u001b[39mNone\u001b[39;00m)\n\u001b[1;32m---> <a href='file:///c%3A/Users/ahmed/anaconda3/envs/streamlitenv/lib/site-packages/statsmodels/base/model.py?line=91'>92</a>\u001b[0m \u001b[39mself\u001b[39m\u001b[39m.\u001b[39mdata \u001b[39m=\u001b[39m \u001b[39mself\u001b[39;49m\u001b[39m.\u001b[39;49m_handle_data(endog, exog, missing, hasconst,\n\u001b[0;32m     <a href='file:///c%3A/Users/ahmed/anaconda3/envs/streamlitenv/lib/site-packages/statsmodels/base/model.py?line=92'>93</a>\u001b[0m                               \u001b[39m*\u001b[39;49m\u001b[39m*\u001b[39;49mkwargs)\n\u001b[0;32m     <a href='file:///c%3A/Users/ahmed/anaconda3/envs/streamlitenv/lib/site-packages/statsmodels/base/model.py?line=93'>94</a>\u001b[0m \u001b[39mself\u001b[39m\u001b[39m.\u001b[39mk_constant \u001b[39m=\u001b[39m \u001b[39mself\u001b[39m\u001b[39m.\u001b[39mdata\u001b[39m.\u001b[39mk_constant\n\u001b[0;32m     <a href='file:///c%3A/Users/ahmed/anaconda3/envs/streamlitenv/lib/site-packages/statsmodels/base/model.py?line=94'>95</a>\u001b[0m \u001b[39mself\u001b[39m\u001b[39m.\u001b[39mexog \u001b[39m=\u001b[39m \u001b[39mself\u001b[39m\u001b[39m.\u001b[39mdata\u001b[39m.\u001b[39mexog\n",
      "File \u001b[1;32m~\\anaconda3\\envs\\streamlitenv\\lib\\site-packages\\statsmodels\\base\\model.py:132\u001b[0m, in \u001b[0;36mModel._handle_data\u001b[1;34m(self, endog, exog, missing, hasconst, **kwargs)\u001b[0m\n\u001b[0;32m    <a href='file:///c%3A/Users/ahmed/anaconda3/envs/streamlitenv/lib/site-packages/statsmodels/base/model.py?line=130'>131</a>\u001b[0m \u001b[39mdef\u001b[39;00m \u001b[39m_handle_data\u001b[39m(\u001b[39mself\u001b[39m, endog, exog, missing, hasconst, \u001b[39m*\u001b[39m\u001b[39m*\u001b[39mkwargs):\n\u001b[1;32m--> <a href='file:///c%3A/Users/ahmed/anaconda3/envs/streamlitenv/lib/site-packages/statsmodels/base/model.py?line=131'>132</a>\u001b[0m     data \u001b[39m=\u001b[39m handle_data(endog, exog, missing, hasconst, \u001b[39m*\u001b[39;49m\u001b[39m*\u001b[39;49mkwargs)\n\u001b[0;32m    <a href='file:///c%3A/Users/ahmed/anaconda3/envs/streamlitenv/lib/site-packages/statsmodels/base/model.py?line=132'>133</a>\u001b[0m     \u001b[39m# kwargs arrays could have changed, easier to just attach here\u001b[39;00m\n\u001b[0;32m    <a href='file:///c%3A/Users/ahmed/anaconda3/envs/streamlitenv/lib/site-packages/statsmodels/base/model.py?line=133'>134</a>\u001b[0m     \u001b[39mfor\u001b[39;00m key \u001b[39min\u001b[39;00m kwargs:\n",
      "File \u001b[1;32m~\\anaconda3\\envs\\streamlitenv\\lib\\site-packages\\statsmodels\\base\\data.py:673\u001b[0m, in \u001b[0;36mhandle_data\u001b[1;34m(endog, exog, missing, hasconst, **kwargs)\u001b[0m\n\u001b[0;32m    <a href='file:///c%3A/Users/ahmed/anaconda3/envs/streamlitenv/lib/site-packages/statsmodels/base/data.py?line=669'>670</a>\u001b[0m     exog \u001b[39m=\u001b[39m np\u001b[39m.\u001b[39masarray(exog)\n\u001b[0;32m    <a href='file:///c%3A/Users/ahmed/anaconda3/envs/streamlitenv/lib/site-packages/statsmodels/base/data.py?line=671'>672</a>\u001b[0m klass \u001b[39m=\u001b[39m handle_data_class_factory(endog, exog)\n\u001b[1;32m--> <a href='file:///c%3A/Users/ahmed/anaconda3/envs/streamlitenv/lib/site-packages/statsmodels/base/data.py?line=672'>673</a>\u001b[0m \u001b[39mreturn\u001b[39;00m klass(endog, exog\u001b[39m=\u001b[39;49mexog, missing\u001b[39m=\u001b[39;49mmissing, hasconst\u001b[39m=\u001b[39;49mhasconst,\n\u001b[0;32m    <a href='file:///c%3A/Users/ahmed/anaconda3/envs/streamlitenv/lib/site-packages/statsmodels/base/data.py?line=673'>674</a>\u001b[0m              \u001b[39m*\u001b[39;49m\u001b[39m*\u001b[39;49mkwargs)\n",
      "File \u001b[1;32m~\\anaconda3\\envs\\streamlitenv\\lib\\site-packages\\statsmodels\\base\\data.py:82\u001b[0m, in \u001b[0;36mModelData.__init__\u001b[1;34m(self, endog, exog, missing, hasconst, **kwargs)\u001b[0m\n\u001b[0;32m     <a href='file:///c%3A/Users/ahmed/anaconda3/envs/streamlitenv/lib/site-packages/statsmodels/base/data.py?line=79'>80</a>\u001b[0m     \u001b[39mself\u001b[39m\u001b[39m.\u001b[39morig_endog \u001b[39m=\u001b[39m endog\n\u001b[0;32m     <a href='file:///c%3A/Users/ahmed/anaconda3/envs/streamlitenv/lib/site-packages/statsmodels/base/data.py?line=80'>81</a>\u001b[0m     \u001b[39mself\u001b[39m\u001b[39m.\u001b[39morig_exog \u001b[39m=\u001b[39m exog\n\u001b[1;32m---> <a href='file:///c%3A/Users/ahmed/anaconda3/envs/streamlitenv/lib/site-packages/statsmodels/base/data.py?line=81'>82</a>\u001b[0m     \u001b[39mself\u001b[39m\u001b[39m.\u001b[39mendog, \u001b[39mself\u001b[39m\u001b[39m.\u001b[39mexog \u001b[39m=\u001b[39m \u001b[39mself\u001b[39;49m\u001b[39m.\u001b[39;49m_convert_endog_exog(endog, exog)\n\u001b[0;32m     <a href='file:///c%3A/Users/ahmed/anaconda3/envs/streamlitenv/lib/site-packages/statsmodels/base/data.py?line=83'>84</a>\u001b[0m \u001b[39mself\u001b[39m\u001b[39m.\u001b[39mconst_idx \u001b[39m=\u001b[39m \u001b[39mNone\u001b[39;00m\n\u001b[0;32m     <a href='file:///c%3A/Users/ahmed/anaconda3/envs/streamlitenv/lib/site-packages/statsmodels/base/data.py?line=84'>85</a>\u001b[0m \u001b[39mself\u001b[39m\u001b[39m.\u001b[39mk_constant \u001b[39m=\u001b[39m \u001b[39m0\u001b[39m\n",
      "File \u001b[1;32m~\\anaconda3\\envs\\streamlitenv\\lib\\site-packages\\statsmodels\\base\\data.py:507\u001b[0m, in \u001b[0;36mPandasData._convert_endog_exog\u001b[1;34m(self, endog, exog)\u001b[0m\n\u001b[0;32m    <a href='file:///c%3A/Users/ahmed/anaconda3/envs/streamlitenv/lib/site-packages/statsmodels/base/data.py?line=504'>505</a>\u001b[0m exog \u001b[39m=\u001b[39m exog \u001b[39mif\u001b[39;00m exog \u001b[39mis\u001b[39;00m \u001b[39mNone\u001b[39;00m \u001b[39melse\u001b[39;00m np\u001b[39m.\u001b[39masarray(exog)\n\u001b[0;32m    <a href='file:///c%3A/Users/ahmed/anaconda3/envs/streamlitenv/lib/site-packages/statsmodels/base/data.py?line=505'>506</a>\u001b[0m \u001b[39mif\u001b[39;00m endog\u001b[39m.\u001b[39mdtype \u001b[39m==\u001b[39m \u001b[39mobject\u001b[39m \u001b[39mor\u001b[39;00m exog \u001b[39mis\u001b[39;00m \u001b[39mnot\u001b[39;00m \u001b[39mNone\u001b[39;00m \u001b[39mand\u001b[39;00m exog\u001b[39m.\u001b[39mdtype \u001b[39m==\u001b[39m \u001b[39mobject\u001b[39m:\n\u001b[1;32m--> <a href='file:///c%3A/Users/ahmed/anaconda3/envs/streamlitenv/lib/site-packages/statsmodels/base/data.py?line=506'>507</a>\u001b[0m     \u001b[39mraise\u001b[39;00m \u001b[39mValueError\u001b[39;00m(\u001b[39m\"\u001b[39m\u001b[39mPandas data cast to numpy dtype of object. \u001b[39m\u001b[39m\"\u001b[39m\n\u001b[0;32m    <a href='file:///c%3A/Users/ahmed/anaconda3/envs/streamlitenv/lib/site-packages/statsmodels/base/data.py?line=507'>508</a>\u001b[0m                      \u001b[39m\"\u001b[39m\u001b[39mCheck input data with np.asarray(data).\u001b[39m\u001b[39m\"\u001b[39m)\n\u001b[0;32m    <a href='file:///c%3A/Users/ahmed/anaconda3/envs/streamlitenv/lib/site-packages/statsmodels/base/data.py?line=508'>509</a>\u001b[0m \u001b[39mreturn\u001b[39;00m \u001b[39msuper\u001b[39m(PandasData, \u001b[39mself\u001b[39m)\u001b[39m.\u001b[39m_convert_endog_exog(endog, exog)\n",
      "\u001b[1;31mValueError\u001b[0m: Pandas data cast to numpy dtype of object. Check input data with np.asarray(data)."
     ]
    }
   ],
   "source": [
    "import statsmodels.api as sm\n",
    "\n",
    "model = sm.tsa.statespace.SARIMAX(df_finale, order=(2,1,2), seasonal_order=(0,1,1,12))\n"
   ]
  },
  {
   "cell_type": "code",
   "execution_count": null,
   "metadata": {},
   "outputs": [],
   "source": [
    "array_d21 = pd.DataFrame(transformation_données_2021())"
   ]
  },
  {
   "cell_type": "code",
   "execution_count": null,
   "metadata": {},
   "outputs": [],
   "source": [
    "df_resultat = pd.DataFrame()\n",
    "df_resultat['donnees reelles'] = array_d21\n",
    "res = results.predict(start=59,end=70,dynamic=True)\n"
   ]
  },
  {
   "cell_type": "code",
   "execution_count": null,
   "metadata": {},
   "outputs": [],
   "source": [
    "df_res = pd.DataFrame(res)"
   ]
  },
  {
   "cell_type": "code",
   "execution_count": null,
   "metadata": {},
   "outputs": [],
   "source": [
    "df_res.reset_index(inplace=True)"
   ]
  },
  {
   "cell_type": "code",
   "execution_count": null,
   "metadata": {},
   "outputs": [
    {
     "data": {
      "text/plain": [
       "0     6338232.829\n",
       "1     7894100.170\n",
       "2     7672244.006\n",
       "3     8678308.146\n",
       "4     8731854.197\n",
       "5    20405180.631\n",
       "6    30578074.845\n",
       "7    30441485.833\n",
       "8    25528787.927\n",
       "9     7356678.856\n",
       "10    6086549.000\n",
       "11    4845244.774\n",
       "Name: predicted_mean, dtype: float64"
      ]
     },
     "execution_count": 9,
     "metadata": {},
     "output_type": "execute_result"
    }
   ],
   "source": [
    "df_res['predicted_mean']"
   ]
  },
  {
   "cell_type": "code",
   "execution_count": null,
   "metadata": {},
   "outputs": [],
   "source": [
    "df_resultat['previsions'] = df_res['predicted_mean']"
   ]
  },
  {
   "cell_type": "code",
   "execution_count": null,
   "metadata": {},
   "outputs": [
    {
     "data": {
      "text/html": [
       "<div>\n",
       "<style scoped>\n",
       "    .dataframe tbody tr th:only-of-type {\n",
       "        vertical-align: middle;\n",
       "    }\n",
       "\n",
       "    .dataframe tbody tr th {\n",
       "        vertical-align: top;\n",
       "    }\n",
       "\n",
       "    .dataframe thead th {\n",
       "        text-align: right;\n",
       "    }\n",
       "</style>\n",
       "<table border=\"1\" class=\"dataframe\">\n",
       "  <thead>\n",
       "    <tr style=\"text-align: right;\">\n",
       "      <th></th>\n",
       "      <th>donnees reelles</th>\n",
       "      <th>previsions</th>\n",
       "    </tr>\n",
       "  </thead>\n",
       "  <tbody>\n",
       "    <tr>\n",
       "      <th>0</th>\n",
       "      <td>10383832.490</td>\n",
       "      <td>6338232.829</td>\n",
       "    </tr>\n",
       "    <tr>\n",
       "      <th>1</th>\n",
       "      <td>9885975.820</td>\n",
       "      <td>7894100.170</td>\n",
       "    </tr>\n",
       "    <tr>\n",
       "      <th>2</th>\n",
       "      <td>10342805.460</td>\n",
       "      <td>7672244.006</td>\n",
       "    </tr>\n",
       "    <tr>\n",
       "      <th>3</th>\n",
       "      <td>10626768.800</td>\n",
       "      <td>8678308.146</td>\n",
       "    </tr>\n",
       "    <tr>\n",
       "      <th>4</th>\n",
       "      <td>23938735.400</td>\n",
       "      <td>8731854.197</td>\n",
       "    </tr>\n",
       "    <tr>\n",
       "      <th>5</th>\n",
       "      <td>32987884.600</td>\n",
       "      <td>20405180.631</td>\n",
       "    </tr>\n",
       "    <tr>\n",
       "      <th>6</th>\n",
       "      <td>33342000.490</td>\n",
       "      <td>30578074.845</td>\n",
       "    </tr>\n",
       "    <tr>\n",
       "      <th>7</th>\n",
       "      <td>28825611.200</td>\n",
       "      <td>30441485.833</td>\n",
       "    </tr>\n",
       "    <tr>\n",
       "      <th>8</th>\n",
       "      <td>9521883.300</td>\n",
       "      <td>25528787.927</td>\n",
       "    </tr>\n",
       "    <tr>\n",
       "      <th>9</th>\n",
       "      <td>8235559.580</td>\n",
       "      <td>7356678.856</td>\n",
       "    </tr>\n",
       "    <tr>\n",
       "      <th>10</th>\n",
       "      <td>6932264.720</td>\n",
       "      <td>6086549.000</td>\n",
       "    </tr>\n",
       "    <tr>\n",
       "      <th>11</th>\n",
       "      <td>8268495.920</td>\n",
       "      <td>4845244.774</td>\n",
       "    </tr>\n",
       "  </tbody>\n",
       "</table>\n",
       "</div>"
      ],
      "text/plain": [
       "    donnees reelles   previsions\n",
       "0      10383832.490  6338232.829\n",
       "1       9885975.820  7894100.170\n",
       "2      10342805.460  7672244.006\n",
       "3      10626768.800  8678308.146\n",
       "4      23938735.400  8731854.197\n",
       "5      32987884.600 20405180.631\n",
       "6      33342000.490 30578074.845\n",
       "7      28825611.200 30441485.833\n",
       "8       9521883.300 25528787.927\n",
       "9       8235559.580  7356678.856\n",
       "10      6932264.720  6086549.000\n",
       "11      8268495.920  4845244.774"
      ]
     },
     "execution_count": 11,
     "metadata": {},
     "output_type": "execute_result"
    }
   ],
   "source": [
    "df_resultat"
   ]
  },
  {
   "cell_type": "code",
   "execution_count": null,
   "metadata": {},
   "outputs": [
    {
     "data": {
      "text/plain": [
       "<matplotlib.axes._subplots.AxesSubplot at 0x2810efc71c0>"
      ]
     },
     "execution_count": 12,
     "metadata": {},
     "output_type": "execute_result"
    },
    {
     "data": {
      "image/png": "[encoded data removed]",
      "text/plain": [
       "<Figure size 432x288 with 1 Axes>"
      ]
     },
     "metadata": {
      "needs_background": "light"
     },
     "output_type": "display_data"
    }
   ],
   "source": [
    "df_resultat.plot()"
   ]
  },
  {
   "cell_type": "code",
   "execution_count": null,
   "metadata": {},
   "outputs": [
    {
     "name": "stdout",
     "output_type": "stream",
     "text": [
      "RMSE des prévisions par rapport au données réelles: 7640430.64 RMSE\n"
     ]
    }
   ],
   "source": [
    "from sklearn.metrics import mean_squared_error\n",
    "prevScore = sqrt(mean_squared_error(array_d21,df_resultat['previsions']))\n",
    "print('RMSE des prévisions par rapport au données réelles: %.2f RMSE' % (prevScore))"
   ]
  }
 ],
 "metadata": {
  "interpreter": {
   "hash": "2bbd11554dcf4b6c4352ff48762ef29dcc1ccace6105f1db84ea98ea1b912446"
  },
  "kernelspec": {
   "display_name": "Python 3.8.13 ('streamlitenv')",
   "language": "python",
   "name": "python3"
  },
  "language_info": {
   "codemirror_mode": {
    "name": "ipython",
    "version": 3
   },
   "file_extension": ".py",
   "mimetype": "text/x-python",
   "name": "python",
   "nbconvert_exporter": "python",
   "pygments_lexer": "ipython3",
   "version": "3.8.13"
  },
  "orig_nbformat": 4
 },
 "nbformat": 4,
 "nbformat_minor": 2
}
